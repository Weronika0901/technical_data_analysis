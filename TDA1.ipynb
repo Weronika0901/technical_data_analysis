{
  "nbformat": 4,
  "nbformat_minor": 0,
  "metadata": {
    "colab": {
      "provenance": []
    },
    "kernelspec": {
      "name": "python3",
      "display_name": "Python 3"
    },
    "language_info": {
      "name": "python"
    }
  },
  "cells": [
    {
      "cell_type": "code",
      "execution_count": 1,
      "metadata": {
        "colab": {
          "base_uri": "https://localhost:8080/"
        },
        "id": "O6naB_8vYKd9",
        "outputId": "cc9fa3c7-9bd7-47e2-9559-c1dcc8a50868"
      },
      "outputs": [
        {
          "output_type": "stream",
          "name": "stdout",
          "text": [
            "Introduction to Machine Learning for Linguistic Applications\n"
          ]
        }
      ],
      "source": [
        "def introduction():\n",
        "    \"\"\"\n",
        "    This function should return the string:\n",
        "    'Introduction to Machine Learning for Linguistic Applications'\n",
        "    \"\"\"\n",
        "    # TODO: Complete the string\n",
        "    return \"Introduction to Machine Learning for Linguistic Applications\"\n",
        "\n",
        "if __name__ == \"__main__\":\n",
        "    print(introduction())"
      ]
    },
    {
      "cell_type": "code",
      "source": [
        "!python3 eval.py"
      ],
      "metadata": {
        "colab": {
          "base_uri": "https://localhost:8080/"
        },
        "id": "axtAs8wEjiOt",
        "outputId": "0164e3ba-fdba-404e-cfa0-4527a62f70d7"
      },
      "execution_count": 5,
      "outputs": [
        {
          "output_type": "stream",
          "name": "stdout",
          "text": [
            "Test passed!\n"
          ]
        }
      ]
    }
  ]
}